{
 "cells": [
  {
   "cell_type": "code",
   "execution_count": 41,
   "metadata": {},
   "outputs": [],
   "source": [
    "import numpy as np\n",
    "from math import sqrt\n",
    "\n",
    "def HOLY_JESUS_it_is_SVD_by_OLEG(a):\n",
    "    s, u = np.linalg.eig(a);\n",
    "    s.sort()\n",
    "    return s\n",
    "\n",
    "def sorting_eig(s, u):\n",
    "    i = 0\n",
    "    while (i < len(s)):\n",
    "        if (s[i] == 0):\n",
    "            s = np.delete(s, i)\n",
    "            u = np.delete(u, i, axis = 1)\n",
    "            i -= 1\n",
    "        i += 1\n",
    "    order = np.argsort(s)\n",
    "    s_res = s.copy()\n",
    "    u_res = np.zeros(u.T.shape)\n",
    "    for i in range(len(order)):\n",
    "        s_res[i] = s[order[i]]\n",
    "        u_res[i] = u.T[order[i]]\n",
    "    return s_res[: :-1], u_res.T[:, : : -1]\n",
    "\n",
    "def svd(a):\n",
    "    if a.shape[0] >= a.shape[1]:\n",
    "        m = a @ a.T\n",
    "        s, u = np.linalg.eig(m)\n",
    "        s, u = sorting_eig(s, u)\n",
    "        s = np.diagflat(s)\n",
    "        s_inv = s.copy()\n",
    "        for i in range(len(s)):\n",
    "            s_inv[i][i] = s_inv[i][i] ** (-1)\n",
    "        print(u.shape, s.shape)\n",
    "        v = s_inv @ u.T @ a\n",
    "        return u, s, v\n",
    "\n",
    "    m = a.T @ a\n",
    "    s, v = np.linalg.eig(m)\n",
    "    s, v = sorting_eig(s, v)\n",
    "    s = np.diagflat(s)\n",
    "    s_inv = s.copy()\n",
    "    for i in range(len(s)):\n",
    "        s_inv[i][i] = s_inv[i][i] ** (-1)\n",
    "    u = s_inv @ v.T @ a\n",
    "    return u, s, v"
   ]
  },
  {
   "cell_type": "code",
   "execution_count": 16,
   "metadata": {},
   "outputs": [
    {
     "name": "stdout",
     "output_type": "stream",
     "text": [
      "(4, 4) (4, 4)\n",
      "[[  1.00000000e+00   1.00000000e+00   2.55222486e-16]\n",
      " [  1.00000000e+00   1.00000000e+00   1.19249298e-17]\n",
      " [  2.77555756e-17  -8.32667268e-17   1.00000000e+00]\n",
      " [  1.00000000e+00  -3.60822483e-16  -1.00000000e+00]]\n"
     ]
    }
   ],
   "source": [
    "u, s, v = svd(np.array([[1, 1, 0],\n",
    "                        [1, 1, 0],\n",
    "                        [0, 0, 1],\n",
    "                        [1, 0, -1]]))\n",
    "print(u @ s @ v, sep = '\\n')"
   ]
  },
  {
   "cell_type": "code",
   "execution_count": 12,
   "metadata": {},
   "outputs": [
    {
     "name": "stdout",
     "output_type": "stream",
     "text": [
      "   label  pixel0  pixel1  pixel2  pixel3  pixel4  pixel5  pixel6  pixel7  \\\n",
      "0      1       0       0       0       0       0       0       0       0   \n",
      "1      0       0       0       0       0       0       0       0       0   \n",
      "2      1       0       0       0       0       0       0       0       0   \n",
      "3      4       0       0       0       0       0       0       0       0   \n",
      "4      0       0       0       0       0       0       0       0       0   \n",
      "\n",
      "   pixel8    ...     pixel774  pixel775  pixel776  pixel777  pixel778  \\\n",
      "0       0    ...            0         0         0         0         0   \n",
      "1       0    ...            0         0         0         0         0   \n",
      "2       0    ...            0         0         0         0         0   \n",
      "3       0    ...            0         0         0         0         0   \n",
      "4       0    ...            0         0         0         0         0   \n",
      "\n",
      "   pixel779  pixel780  pixel781  pixel782  pixel783  \n",
      "0         0         0         0         0         0  \n",
      "1         0         0         0         0         0  \n",
      "2         0         0         0         0         0  \n",
      "3         0         0         0         0         0  \n",
      "4         0         0         0         0         0  \n",
      "\n",
      "[5 rows x 785 columns]\n"
     ]
    }
   ],
   "source": [
    "import pandas as pd\n",
    "from skimage import io\n",
    "from matplotlib import pyplot as plt\n",
    "\n",
    "data = pd.read_csv('train.csv')\n",
    "print(data.head())\n",
    "df = pd.DataFrame(data)\n",
    "df_filtered = df.query('label == 2')\n",
    "data = np.array(df_filtered, dtype=float)\n",
    "y, x_data = np.hsplit(data, [1])"
   ]
  },
  {
   "cell_type": "code",
   "execution_count": 31,
   "metadata": {},
   "outputs": [],
   "source": [
    "# try to use only first five eighvalues\n",
    "def try_kill_big_ei(image, alpha = 5):\n",
    "    u, s, v = svd(image)\n",
    "    s = s[alpha:, alpha:]\n",
    "    u = u[:, alpha:]\n",
    "    v = v[alpha:, :]\n",
    "    return u @ s @ v"
   ]
  },
  {
   "cell_type": "code",
   "execution_count": 32,
   "metadata": {},
   "outputs": [],
   "source": [
    "def try_kill_low_ei(image, alpha = 5):\n",
    "    u, s, v = svd(image)\n",
    "    s = s[:alpha, :alpha]\n",
    "    u = u[:, :alpha]\n",
    "    v = v[:alpha, :]\n",
    "    return u @ s @ v"
   ]
  },
  {
   "cell_type": "code",
   "execution_count": 33,
   "metadata": {},
   "outputs": [
    {
     "name": "stderr",
     "output_type": "stream",
     "text": [
      "/usr/local/lib/python3.5/dist-packages/skimage/io/_plugins/matplotlib_plugin.py:77: UserWarning: Float image out of standard range; displaying image with stretched contrast.\n",
      "  warn(\"Float image out of standard range; displaying \"\n"
     ]
    },
    {
     "data": {
      "image/png": "[encoded data removed]",
      "text/plain": [
       "<matplotlib.figure.Figure at 0x7f3cb23a29e8>"
      ]
     },
     "metadata": {},
     "output_type": "display_data"
    },
    {
     "name": "stdout",
     "output_type": "stream",
     "text": [
      "(28, 20) (20, 20)\n"
     ]
    },
    {
     "data": {
      "image/png": "[encoded data removed]",
      "text/plain": [
       "<matplotlib.figure.Figure at 0x7f3cb240cfd0>"
      ]
     },
     "metadata": {},
     "output_type": "display_data"
    },
    {
     "name": "stdout",
     "output_type": "stream",
     "text": [
      "(28, 20) (20, 20)\n"
     ]
    },
    {
     "data": {
      "image/png": "[encoded data removed]",
      "text/plain": [
       "<matplotlib.figure.Figure at 0x7f3cb2353a58>"
      ]
     },
     "metadata": {},
     "output_type": "display_data"
    }
   ],
   "source": [
    "io.imshow(x_data[0].reshape(28, 28))\n",
    "plt.show()\n",
    "io.imshow(try_kill_big_ei(x_data[0].reshape(28, 28)))\n",
    "plt.show()\n",
    "io.imshow(try_kill_low_ei(x_data[0].reshape(28, 28)))\n",
    "plt.show()"
   ]
  },
  {
   "cell_type": "code",
   "execution_count": 56,
   "metadata": {},
   "outputs": [],
   "source": [
    "from PIL import Image\n",
    "import numpy as np\n",
    "import os\n",
    "\n",
    "files = os.listdir(path=\"jaffe\")\n",
    "\n",
    "# happy 0, sad 1, surprise 2,\n",
    "# angry 3, disgust 4, fear 5, neutral 6\n",
    "singular_values = {\"HA\": [], \"SA\":[], \"SU\":[]\n",
    "                  ,\"AN\":[], \"DI\":[], \"FE\":[], \"NE\":[]}\n",
    "\n",
    "\n",
    "data = []\n",
    "for name in files:\n",
    "    im = Image.open('jaffe/' + name)\n",
    "    data.append((np.array(im), name[3:5]))\n",
    "\n",
    "data_train = data[ : int(len(data) * 0.75)]\n",
    "data_test = data[int(len(data) * 0.75) :]"
   ]
  },
  {
   "cell_type": "code",
   "execution_count": 57,
   "metadata": {},
   "outputs": [],
   "source": [
    "for sample in data_train:\n",
    "    S = HOLY_JESUS_it_is_SVD_by_OLEG(sample[0])\n",
    "    singular_values[sample[1]].append(S)\n",
    "\n",
    "for key in singular_values:\n",
    "    singular_values[key] = np.mean(singular_values[key], axis=0)"
   ]
  },
  {
   "cell_type": "code",
   "execution_count": 58,
   "metadata": {},
   "outputs": [],
   "source": [
    "def dist(x,y):   \n",
    "    return np.sqrt(np.sum((x - y) ** 2))\n",
    "\n",
    "def classify(x):\n",
    "    dist_min = 0\n",
    "    res = 'nope'\n",
    "    for key in singular_values:\n",
    "        if (dist_min == 0):\n",
    "            dist_min = dist(x, singular_values[key])\n",
    "            res = key\n",
    "        else:\n",
    "            curr_dist = dist(x, singular_values[key])\n",
    "            if (dist_min > curr_dist):\n",
    "                dist_min = curr_dist\n",
    "                res = key\n",
    "    return res"
   ]
  },
  {
   "cell_type": "code",
   "execution_count": 59,
   "metadata": {},
   "outputs": [
    {
     "name": "stdout",
     "output_type": "stream",
     "text": [
      "accuracy: 20.37037037037037\n"
     ]
    }
   ],
   "source": [
    "check = 0\n",
    "for sample in data_test:\n",
    "    S = HOLY_JESUS_it_is_SVD_by_OLEG(sample[0])\n",
    "    if (sample[1] == classify(S)):\n",
    "        check += 1\n",
    "print(\"accuracy:\", check / len(data_test) * 100)"
   ]
  },
  {
   "cell_type": "code",
   "execution_count": null,
   "metadata": {},
   "outputs": [],
   "source": []
  }
 ],
 "metadata": {
  "kernelspec": {
   "display_name": "Python 3",
   "language": "python",
   "name": "python3"
  },
  "language_info": {
   "codemirror_mode": {
    "name": "ipython",
    "version": 3
   },
   "file_extension": ".py",
   "mimetype": "text/x-python",
   "name": "python",
   "nbconvert_exporter": "python",
   "pygments_lexer": "ipython3",
   "version": "3.5.2"
  }
 },
 "nbformat": 4,
 "nbformat_minor": 2
}
