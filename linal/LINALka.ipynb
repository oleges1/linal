{
 "cells": [
  {
   "cell_type": "code",
   "execution_count": 87,
   "metadata": {},
   "outputs": [],
   "source": [
    "import numpy as np\n",
    "from math import sqrt\n",
    "\n",
    "def sorting_eig(s, u):\n",
    "    i = 0\n",
    "    while (i < len(s)):\n",
    "        if (s[i] == 0):\n",
    "            s = np.delete(s, i)\n",
    "            u = np.delete(u, i, axis = 1)\n",
    "            i -= 1\n",
    "        i += 1\n",
    "    order = np.argsort(s)\n",
    "    s_res, u_res = s.copy(), u.copy()\n",
    "    for i in range(len(order)):\n",
    "        s_res[i] = s[order[i]]\n",
    "        u_res[i] = u[order[i]]\n",
    "    return s_res, u_res\n",
    "\n",
    "def svd(a):\n",
    "    if a.shape[0] >= a.shape[1]:\n",
    "        m = a @ a.T\n",
    "        s, u = np.linalg.eig(m)\n",
    "        s, u = sorting_eig(s, u)\n",
    "        s = np.diagflat(s)\n",
    "        s_inv = s.copy()\n",
    "        for i in range(len(s)):\n",
    "            s_inv[i][i] = s_inv[i][i] ** (-1)\n",
    "        print(u.shape, s.shape)\n",
    "        v = s_inv @ u.T @ a\n",
    "        return u, s, v\n",
    "\n",
    "    m = a.T @ a\n",
    "    s, v = np.linalg.eig(m)\n",
    "    s, v = sorting_eig(s, v)\n",
    "    s = np.diagflat(s)\n",
    "    s_inv = s.copy()\n",
    "    for i in range(len(s)):\n",
    "        s_inv[i][i] = s_inv[i][i] ** (-1)\n",
    "    u = s_inv @ v.T @ a\n",
    "    return u, s, v"
   ]
  },
  {
   "cell_type": "code",
   "execution_count": 75,
   "metadata": {},
   "outputs": [
    {
     "name": "stdout",
     "output_type": "stream",
     "text": [
      "[  4.79128785e+00   2.00000000e+00   5.41055039e-17   2.08712153e-01]\n",
      "[  4.79128785e+00   2.00000000e+00   5.41055039e-17   2.08712153e-01]\n",
      "(4, 4) (4, 4)\n",
      "[[  1.00000000e+00   1.00000000e+00   7.74116373e-16]\n",
      " [  1.00000000e+00   1.00000000e+00   9.75476693e-16]\n",
      " [  8.32667268e-16   6.38378239e-16   1.00000000e+00]\n",
      " [  1.00000000e+00  -1.11022302e-15  -1.00000000e+00]]\n"
     ]
    }
   ],
   "source": [
    "u, s, v = svd(np.array([[1, 1, 0],\n",
    "                        [1, 1, 0],\n",
    "                        [0, 0, 1],\n",
    "                        [1, 0, -1]]))\n",
    "print(u @ s @ v, sep = '\\n')"
   ]
  },
  {
   "cell_type": "code",
   "execution_count": 72,
   "metadata": {},
   "outputs": [
    {
     "name": "stdout",
     "output_type": "stream",
     "text": [
      "   label  pixel0  pixel1  pixel2  pixel3  pixel4  pixel5  pixel6  pixel7  \\\n",
      "0      1       0       0       0       0       0       0       0       0   \n",
      "1      0       0       0       0       0       0       0       0       0   \n",
      "2      1       0       0       0       0       0       0       0       0   \n",
      "3      4       0       0       0       0       0       0       0       0   \n",
      "4      0       0       0       0       0       0       0       0       0   \n",
      "\n",
      "   pixel8    ...     pixel774  pixel775  pixel776  pixel777  pixel778  \\\n",
      "0       0    ...            0         0         0         0         0   \n",
      "1       0    ...            0         0         0         0         0   \n",
      "2       0    ...            0         0         0         0         0   \n",
      "3       0    ...            0         0         0         0         0   \n",
      "4       0    ...            0         0         0         0         0   \n",
      "\n",
      "   pixel779  pixel780  pixel781  pixel782  pixel783  \n",
      "0         0         0         0         0         0  \n",
      "1         0         0         0         0         0  \n",
      "2         0         0         0         0         0  \n",
      "3         0         0         0         0         0  \n",
      "4         0         0         0         0         0  \n",
      "\n",
      "[5 rows x 785 columns]\n"
     ]
    }
   ],
   "source": [
    "import pandas as pd\n",
    "from skimage import io\n",
    "from matplotlib import pyplot as plt\n",
    "\n",
    "data = pd.read_csv('train.csv')\n",
    "print(data.head())\n",
    "df = pd.DataFrame(data)\n",
    "df_filtered = df.query('label == 0')\n",
    "data = np.array(df_filtered, dtype=float)\n",
    "y, x_data = np.hsplit(data, [1])"
   ]
  },
  {
   "cell_type": "code",
   "execution_count": 89,
   "metadata": {},
   "outputs": [],
   "source": [
    "# try to use only first ten eighvalues\n",
    "def try_svd(image, alpha):\n",
    "    u, s, v = svd(image)\n",
    "    io.imshow(u @ s @ v)\n",
    "    plt.show()\n",
    "    s = s[alpha:, alpha:]\n",
    "    u = u[:, alpha:]\n",
    "    v = v[alpha:, :]\n",
    "    return u @ s @ v"
   ]
  },
  {
   "cell_type": "code",
   "execution_count": 90,
   "metadata": {},
   "outputs": [
    {
     "name": "stderr",
     "output_type": "stream",
     "text": [
      "/usr/local/lib/python3.5/dist-packages/skimage/io/_plugins/matplotlib_plugin.py:77: UserWarning: Float image out of standard range; displaying image with stretched contrast.\n",
      "  warn(\"Float image out of standard range; displaying \"\n"
     ]
    },
    {
     "data": {
      "image/png": "[encoded data removed]",
      "text/plain": [
       "<matplotlib.figure.Figure at 0x7f259ed53588>"
      ]
     },
     "metadata": {},
     "output_type": "display_data"
    },
    {
     "name": "stdout",
     "output_type": "stream",
     "text": [
      "[  6.51556443e+06   2.93654667e+06   4.79856000e+05   9.65131019e+04\n",
      "   5.67051480e+04   4.05902351e+04   3.62720118e+04   2.29364557e+04\n",
      "   2.03585380e+04   1.30541794e+04   8.83927734e+03   8.20149969e+03\n",
      "   4.43849059e+03   2.44149992e+03   2.06040919e+03   6.89231804e+02\n",
      "   1.45311206e+02   4.23225577e+01   2.26981405e-01   5.96656781e+00\n",
      "   0.00000000e+00   0.00000000e+00   0.00000000e+00   0.00000000e+00\n",
      "   0.00000000e+00   0.00000000e+00   0.00000000e+00   0.00000000e+00]\n",
      "[  6.51556443e+06   2.93654667e+06   4.79856000e+05   9.65131019e+04\n",
      "   5.67051480e+04   4.05902351e+04   3.62720118e+04   2.29364557e+04\n",
      "   2.03585380e+04   1.30541794e+04   8.83927734e+03   8.20149969e+03\n",
      "   4.43849059e+03   2.44149992e+03   2.06040919e+03   6.89231804e+02\n",
      "   1.45311206e+02   4.23225577e+01   2.26981405e-01   5.96656781e+00]\n",
      "(28, 20) (20, 20)\n"
     ]
    },
    {
     "data": {
      "image/png": "[encoded data removed]",
      "text/plain": [
       "<matplotlib.figure.Figure at 0x7f259e997208>"
      ]
     },
     "metadata": {},
     "output_type": "display_data"
    },
    {
     "data": {
      "image/png": "[encoded data removed]",
      "text/plain": [
       "<matplotlib.figure.Figure at 0x7f259ea38f28>"
      ]
     },
     "metadata": {},
     "output_type": "display_data"
    }
   ],
   "source": [
    "io.imshow(x_data[0].reshape(28, 28))\n",
    "plt.show()\n",
    "io.imshow(try_svd(x_data[0].reshape(28, 28), 2))\n",
    "plt.show()"
   ]
  },
  {
   "cell_type": "code",
   "execution_count": null,
   "metadata": {},
   "outputs": [],
   "source": []
  }
 ],
 "metadata": {
  "kernelspec": {
   "display_name": "Python 3",
   "language": "python",
   "name": "python3"
  },
  "language_info": {
   "codemirror_mode": {
    "name": "ipython",
    "version": 3
   },
   "file_extension": ".py",
   "mimetype": "text/x-python",
   "name": "python",
   "nbconvert_exporter": "python",
   "pygments_lexer": "ipython3",
   "version": "3.5.2"
  }
 },
 "nbformat": 4,
 "nbformat_minor": 2
}
