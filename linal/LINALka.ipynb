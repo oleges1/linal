{
 "cells": [
  {
   "cell_type": "code",
   "execution_count": 10,
   "metadata": {},
   "outputs": [],
   "source": [
    "import numpy as np\n",
    "\n",
    "def sorting_eig(s, u):\n",
    "    order = np.argsort(s)\n",
    "    s_res, u_res = s.copy(), u.copy()\n",
    "    for i in range(len(order)):\n",
    "        s_res[i] = s[order[i]]\n",
    "        u_res[i] = u[order[i]]\n",
    "    return s_res, u_res\n",
    "\n",
    "def svd(a):\n",
    "    if a.shape[0] >= a.shape[1]:\n",
    "        m = a @ a.T\n",
    "        s, u = np.linalg.eig(m)\n",
    "        s, u = sorting_eig(s, u)\n",
    "        s = np.diagflat(np.append(s, [0]))\n",
    "        for i in range(len(s)):\n",
    "            if (s[i][i] == 0):\n",
    "                s = s[:i, :i]\n",
    "                u = u[:, :i]\n",
    "        s_inv = s.copy()\n",
    "        for i in range(len(s)):\n",
    "            s_inv[i][i] = s_inv[i][i] ** (-1)\n",
    "        v = s_inv @ u.T @ a\n",
    "        return u, s, v\n",
    "\n",
    "    m = a.T @ a\n",
    "    s, v = np.linalg.eig(m)\n",
    "    s = np.diagflat(np.append(s, [0]))\n",
    "    for i in range(len(s)):\n",
    "        if (s[i][i] == 0):\n",
    "            s = s[:i, :i]\n",
    "            v = v[:i,:]\n",
    "    s_inv = s.copy()\n",
    "    for i in range(len(s)):\n",
    "        s_inv[i][i] = s_inv[i][i] ** (-1)\n",
    "    u = s_inv @ v.T @ a\n",
    "    return u, s, v"
   ]
  },
  {
   "cell_type": "code",
   "execution_count": 11,
   "metadata": {},
   "outputs": [
    {
     "name": "stdout",
     "output_type": "stream",
     "text": [
      "[[  1.00000000e+00   1.00000000e+00   7.74116373e-16]\n",
      " [  1.00000000e+00   1.00000000e+00   9.75476693e-16]\n",
      " [  8.32667268e-16   6.38378239e-16   1.00000000e+00]\n",
      " [  1.00000000e+00  -1.11022302e-15  -1.00000000e+00]]\n"
     ]
    }
   ],
   "source": [
    "u, s, v = svd(np.array([[1, 1, 0],\n",
    "                        [1, 1, 0],\n",
    "                        [0, 0, 1],\n",
    "                        [1, 0, -1]]))\n",
    "print(u @ s @ v, sep = '\\n')"
   ]
  },
  {
   "cell_type": "code",
   "execution_count": null,
   "metadata": {},
   "outputs": [],
   "source": []
  }
 ],
 "metadata": {
  "kernelspec": {
   "display_name": "Python 3",
   "language": "python",
   "name": "python3"
  },
  "language_info": {
   "codemirror_mode": {
    "name": "ipython",
    "version": 3
   },
   "file_extension": ".py",
   "mimetype": "text/x-python",
   "name": "python",
   "nbconvert_exporter": "python",
   "pygments_lexer": "ipython3",
   "version": "3.5.2"
  }
 },
 "nbformat": 4,
 "nbformat_minor": 2
}
