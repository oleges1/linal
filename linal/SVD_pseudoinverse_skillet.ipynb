{
 "cells": [
  {
   "cell_type": "markdown",
   "metadata": {},
   "source": [
    "## EX.1\n",
    "\n",
    "$$A =\n",
    "\\begin{bmatrix}\n",
    "    -5 & -2 & -7\\\\\n",
    "    12 & 10 & 2\\\\\n",
    "    -5 & -2 & -7\\\\\n",
    "    7 & 8 & 5\\\\\n",
    "\\end{bmatrix}$$\n",
    "\n",
    "We can see that last line is first + second and the third is the same as first, so we can told it to go away.\n",
    "\n",
    "$$A =\n",
    "\\begin{bmatrix}\n",
    "    -5 & -2 & -7\\\\\n",
    "    12 & 10 & 2\\\\\n",
    "\\end{bmatrix} = \n",
    "\\begin{bmatrix}\n",
    "    -5 & -2 & -7\\\\\n",
    "    2 & 6 & -12\\\\\n",
    "\\end{bmatrix} = \n",
    "\\begin{bmatrix}\n",
    "    1 & 3 & -6\\\\\n",
    "    -5 & -2 & -7\\\\\n",
    "\\end{bmatrix} = \n",
    "\\begin{bmatrix}\n",
    "    1 & 3 & -6\\\\\n",
    "    0 & -13 & -37\\\\\n",
    "\\end{bmatrix}$$\n",
    "\n",
    "So left lines are lineary independent and B, C is:\n",
    "\n",
    "$$ B \\cdot C =\n",
    "\\begin{bmatrix}\n",
    "    1 & 0\\\\\n",
    "    0 & 1\\\\\n",
    "    1 & 0\\\\\n",
    "    1 & 1\\\\\n",
    "\\end{bmatrix} \\cdot\n",
    "\\begin{bmatrix}\n",
    "    1 & 3 & -6\\\\\n",
    "    -5 & -2 & -7\\\\\n",
    "\\end{bmatrix}\n",
    "=\n",
    "\\begin{bmatrix}\n",
    "    -5 & -2 & -7\\\\\n",
    "    12 & 10 & 2\\\\\n",
    "    -5 & -2 & -7\\\\\n",
    "    7 & 8 & 5\\\\\n",
    "\\end{bmatrix} = A$$"
   ]
  },
  {
   "cell_type": "code",
   "execution_count": 150,
   "metadata": {},
   "outputs": [],
   "source": [
    "import numpy as np\n",
    "#make PseudoInv from Skelet\n",
    "def pseudo_inv(B, C):\n",
    "    return C.T @ np.linalg.inv(C @ C.T) @ np.linalg.inv(B.T @ B) @ B.T"
   ]
  },
  {
   "cell_type": "code",
   "execution_count": 154,
   "metadata": {},
   "outputs": [
    {
     "name": "stdout",
     "output_type": "stream",
     "text": [
      "[[-0.01313285  0.02874001 -0.01313285  0.01560716]\n",
      " [ 0.0056338   0.02535211  0.0056338   0.03098592]\n",
      " [-0.04937191  0.00079939 -0.04937191 -0.04857252]]\n"
     ]
    }
   ],
   "source": [
    "print(pseudo_inv(np.array([[1, 0],\n",
    "                           [0, 1],\n",
    "                           [1, 0],\n",
    "                           [1, 1]]), \n",
    "                np.array([[-5, -2, -7],\n",
    "                           [12, 10, 2]])))"
   ]
  },
  {
   "cell_type": "markdown",
   "metadata": {},
   "source": [
    "## EX.2"
   ]
  },
  {
   "cell_type": "code",
   "execution_count": 97,
   "metadata": {},
   "outputs": [],
   "source": [
    "def svd(a):\n",
    "    if a.shape[0] >= a.shape[1]:\n",
    "        m = a @ a.T\n",
    "        s, u = np.linalg.eig(m)\n",
    "        s = np.diagflat(np.append(s, [0]))\n",
    "        for i in range(len(s)):\n",
    "            if (s[i][i] == 0):\n",
    "                s = s[:i, :i]\n",
    "                u = u[:, :i]\n",
    "        s_inv = s.copy()\n",
    "        for i in range(len(s)):\n",
    "            s_inv[i][i] = s_inv[i][i] ** (-1)\n",
    "        v = s_inv @ u.T @ a\n",
    "        return u, s, v\n",
    "\n",
    "    m = a.T @ a\n",
    "    s, v = np.linalg.eig(m)\n",
    "    s = np.diagflat(np.append(s, [0]))\n",
    "    for i in range(len(s)):\n",
    "        if (s[i][i] == 0):\n",
    "            s = s[:i, :i]\n",
    "            v = v[:i,:]\n",
    "    s_inv = s.copy()\n",
    "    for i in range(len(s)):\n",
    "        s_inv[i][i] = s_inv[i][i] ** (-1)\n",
    "    u = s_inv @ v.T @ a\n",
    "    return u, s, v"
   ]
  },
  {
   "cell_type": "code",
   "execution_count": 197,
   "metadata": {},
   "outputs": [
    {
     "name": "stdout",
     "output_type": "stream",
     "text": [
      "[[  1.00000000e+00   1.00000000e+00   2.56739074e-16]\n",
      " [  1.00000000e+00   1.00000000e+00   1.04083409e-17]\n",
      " [  2.77555756e-17  -8.32667268e-17   1.00000000e+00]\n",
      " [  1.00000000e+00  -3.60822483e-16  -1.00000000e+00]]\n"
     ]
    }
   ],
   "source": [
    "u, s, v = svd(np.array([[1, 1, 0],\n",
    "                        [1, 1, 0],\n",
    "                        [0, 0, 1],\n",
    "                        [1, 0, -1]]))\n",
    "print(u @ s @ v, sep = '\\n')"
   ]
  },
  {
   "cell_type": "markdown",
   "metadata": {},
   "source": [
    "Try SVD for pseudoinv but get only govno:"
   ]
  },
  {
   "cell_type": "code",
   "execution_count": 126,
   "metadata": {},
   "outputs": [],
   "source": [
    "def pseudo_inv_svd(a):\n",
    "    u, s, v = svd(a)\n",
    "    s_inv = s.copy()\n",
    "    for i in range(len(s)):\n",
    "        s_inv[i][i] = s_inv[i][i] ** (-1)\n",
    "    return v.T @ s_inv.T @ u.T"
   ]
  },
  {
   "cell_type": "code",
   "execution_count": 153,
   "metadata": {},
   "outputs": [
    {
     "name": "stdout",
     "output_type": "stream",
     "text": [
      "[[ -2.08476430e+12+0.j  -6.61932183e+12+0.j  -4.53455753e+12+0.j\n",
      "    6.61932183e+12+0.j]\n",
      " [ -3.75545890e+12+0.j  -4.33489675e+12+0.j  -5.79437847e+11+0.j\n",
      "    4.33489675e+12+0.j]\n",
      " [  3.96609770e+12+0.j  -6.88082978e+11+0.j  -4.65418068e+12+0.j\n",
      "    6.88082978e+11+0.j]]\n"
     ]
    }
   ],
   "source": [
    "print(pseudo_inv_svd(np.array([[-5, -2, -7],\n",
    "                           [12, 10, 2],\n",
    "                           [-5, -2, -7],\n",
    "                           [7, 8, -5]])))"
   ]
  },
  {
   "cell_type": "markdown",
   "metadata": {},
   "source": [
    "## EX.3\n",
    "\n",
    "$$A =\n",
    "\\begin{bmatrix}\n",
    "    3 & -4 & -1 & 0 \\\\\n",
    "    9 & 5 & -2 & -6 \\\\\n",
    "    -1 & -1 & 0 & 0 \\\\\n",
    "    12 & 1 & -3 & -8 \\\\\n",
    "\\end{bmatrix}$$\n",
    "\n",
    "We can see that last line is first + second, so we can told it to go away.\n",
    "\n",
    "$$A =\n",
    "\\begin{bmatrix}\n",
    "    3 & -4 & -1 & 0 \\\\\n",
    "    9 & 5 & -2 & -6 \\\\\n",
    "    -1 & -1 & 0 & 0 \\\\\n",
    "\\end{bmatrix} = \n",
    "\\begin{bmatrix}\n",
    "    1 & 1 & 0 & 0 \\\\\n",
    "    0 & -7 & -1 & 0 \\\\\n",
    "    0 & -4 & -2 & -6 \\\\\n",
    "\\end{bmatrix} = \n",
    "\\begin{bmatrix}\n",
    "    1 & 1 & 0 & 0 \\\\\n",
    "    0 & 1 & 0.5 & 1.5 \\\\\n",
    "    0 & 0 & -4.5 & -10.5 \\\\\n",
    "\\end{bmatrix}$$\n",
    "\n",
    "So left lines are lineary independent and B, C is:\n",
    "$$ B \\cdot C =\n",
    "\\begin{bmatrix}\n",
    "    1 & 0 & 0\\\\\n",
    "    0 & 1 & 0\\\\\n",
    "    0 & 0 & 1\\\\\n",
    "    1 & 1 & 0\\\\\n",
    "\\end{bmatrix} \\cdot\n",
    "\\begin{bmatrix}\n",
    "    3 & -4 & -1 & 0 \\\\\n",
    "    9 & 5 & -2 & -6 \\\\\n",
    "    -1 & -1 & 0 & 0 \\\\\n",
    "\\end{bmatrix}\n",
    "=\n",
    "\\begin{bmatrix}\n",
    "    3 & -4 & -1 & 0 \\\\\n",
    "    9 & 5 & -2 & -6 \\\\\n",
    "    -1 & -1 & 0 & 0 \\\\\n",
    "    12 & 1 & -3 & -8 \\\\\n",
    "\\end{bmatrix} = A$$"
   ]
  },
  {
   "cell_type": "code",
   "execution_count": 155,
   "metadata": {},
   "outputs": [],
   "source": [
    "def lstsq(B, C, b):\n",
    "    A_plus = pseudo_inv(B, C)\n",
    "    return A_plus @ b"
   ]
  },
  {
   "cell_type": "code",
   "execution_count": 158,
   "metadata": {},
   "outputs": [
    {
     "name": "stdout",
     "output_type": "stream",
     "text": [
      "[-0.40220386  0.40220386 -0.14876033  1.10743802]\n"
     ]
    }
   ],
   "source": [
    "print(lstsq(np.array([[1, 0, 0],\n",
    "                           [0, 1, 0],\n",
    "                           [0, 0, 1],\n",
    "                           [1, 1, 0]]), \n",
    "                np.array([[3, -4, -1, 0],\n",
    "                          [9, 5, -2, 6],\n",
    "                          [-1, -1, 0, 0]]),\n",
    "                np.array([-3, 5, 0, 3])))"
   ]
  },
  {
   "cell_type": "markdown",
   "metadata": {},
   "source": [
    "## EX.4"
   ]
  },
  {
   "cell_type": "code",
   "execution_count": 186,
   "metadata": {},
   "outputs": [],
   "source": [
    "import numpy as np\n",
    "from random import random\n",
    "import matplotlib.pyplot as pl\n",
    "from math import pi, sin\n",
    "\n",
    "def graph(deg):\n",
    "    data = np.array([[1937, 0],\n",
    "                    [1949, 0],\n",
    "                    [1950, -1],\n",
    "                    [1951, -6],\n",
    "                    [1952, -1],\n",
    "                    [1953, -3],\n",
    "                    [1954, -2],\n",
    "                    [1956, -4],\n",
    "                    [1957, -1],\n",
    "                    [1959, -5],\n",
    "                    [1960, -4],\n",
    "                    [1962, 1],\n",
    "                    [1963, 0],\n",
    "                    [1964, -2],\n",
    "                    [1965, -6],\n",
    "                    [1966, -1],\n",
    "                    [1967, 1],\n",
    "                    [1968, -3],\n",
    "                    [1969, 2],\n",
    "                    [1970, -2],\n",
    "                    [1973, -2],\n",
    "                    [1974, 2],\n",
    "                    [1975, -3],\n",
    "                    [1976, -1],\n",
    "                    [1977, 2],\n",
    "                    [1978, 2],\n",
    "                    [1979, -1],\n",
    "                    [1980, -2],\n",
    "                    [1981, -1],\n",
    "                    [1982, 2],\n",
    "                    [1983, -2],\n",
    "                    [1984, -4],\n",
    "                    [1985, -3],\n",
    "                    [1986, 0],\n",
    "                    [1988, -4],\n",
    "                    [1989, -3],\n",
    "                    [1990, 0],\n",
    "                    [1991, 1],\n",
    "                    [1992, -3],\n",
    "                    [1993, -8],\n",
    "                    [1994, -3],\n",
    "                    [1995, -3],\n",
    "                    [1996, 4],\n",
    "                    [1997, -1],\n",
    "                    [1998, -8],\n",
    "                    [1999, -5],\n",
    "                    [2000, 0],\n",
    "                    [2001, -1],\n",
    "                    [2002, -2],\n",
    "                    [2003, 1],\n",
    "                    [2004, -2],\n",
    "                    [2005, 1],\n",
    "                    [2006, 1],\n",
    "                    [2007, -2],\n",
    "                    [2008, 2],\n",
    "                    [2009, 2],\n",
    "                    [2010, 3],\n",
    "                    [2011, 0],\n",
    "                    [2012, 2],\n",
    "                    [2013, 4],\n",
    "                    [2014, -1],\n",
    "                    [2015, 1],])\n",
    "    x_data = data[ : ,0]\n",
    "    y_train = data[ : ,1]\n",
    "    x_train = np.zeros((0, len(x_data)))\n",
    "    for d in range(deg):\n",
    "        x_temp = x_data\n",
    "        x_temp = x_temp ** float(d)\n",
    "        x_train = np.vstack((x_temp, x_train))\n",
    "    list_coord = np.linalg.inv(x_train @ np.transpose(x_train)) @ x_train @ np.transpose(y_train)\n",
    "\n",
    "    \n",
    "    pl.figure(figsize=(8, 5))\n",
    "    pl.grid(True)\n",
    "    pl.title('Linear Regression')\n",
    "\n",
    "    def line(x):\n",
    "        ans = 0\n",
    "        d = deg - 1\n",
    "        for wi in list_coord:\n",
    "            ans += wi * x ** float(d)\n",
    "            d -= 1\n",
    "        return ans\n",
    "\n",
    "    pl.plot(x_data, [line(x) for x in x_data], color='green', linewidth=2, alpha=0.3)\n",
    "    pl.scatter(x_train[deg - 2, :], y_train, s=80, color='blue', alpha=0.3)\n",
    "    pl.show()\n",
    "    return line(2017)"
   ]
  },
  {
   "cell_type": "code",
   "execution_count": 188,
   "metadata": {},
   "outputs": [
    {
     "data": {
      "image/png": "[encoded data removed]",
      "text/plain": [
       "<matplotlib.figure.Figure at 0x7f630a6d90f0>"
      ]
     },
     "metadata": {},
     "output_type": "display_data"
    },
    {
     "data": {
      "text/plain": [
       "-0.037504995838816058"
      ]
     },
     "execution_count": 188,
     "metadata": {},
     "output_type": "execute_result"
    }
   ],
   "source": [
    "graph(2)"
   ]
  },
  {
   "cell_type": "code",
   "execution_count": 193,
   "metadata": {},
   "outputs": [
    {
     "data": {
      "image/png": "[encoded data removed]",
      "text/plain": [
       "<matplotlib.figure.Figure at 0x7f630a9a1f28>"
      ]
     },
     "metadata": {},
     "output_type": "display_data"
    },
    {
     "data": {
      "text/plain": [
       "1.1448813550969135"
      ]
     },
     "execution_count": 193,
     "metadata": {},
     "output_type": "execute_result"
    }
   ],
   "source": [
    "graph(3)"
   ]
  },
  {
   "cell_type": "code",
   "execution_count": 194,
   "metadata": {},
   "outputs": [
    {
     "data": {
      "image/png": "[encoded data removed]",
      "text/plain": [
       "<matplotlib.figure.Figure at 0x7f630a6634a8>"
      ]
     },
     "metadata": {},
     "output_type": "display_data"
    },
    {
     "data": {
      "text/plain": [
       "2.2376711840042844"
      ]
     },
     "execution_count": 194,
     "metadata": {},
     "output_type": "execute_result"
    }
   ],
   "source": [
    "graph(4)"
   ]
  },
  {
   "cell_type": "code",
   "execution_count": 191,
   "metadata": {},
   "outputs": [
    {
     "data": {
      "image/png": "[encoded data removed]",
      "text/plain": [
       "<matplotlib.figure.Figure at 0x7f630a7ec278>"
      ]
     },
     "metadata": {},
     "output_type": "display_data"
    },
    {
     "data": {
      "text/plain": [
       "0.42836238443851471"
      ]
     },
     "execution_count": 191,
     "metadata": {},
     "output_type": "execute_result"
    }
   ],
   "source": [
    "graph(5)"
   ]
  },
  {
   "cell_type": "code",
   "execution_count": 195,
   "metadata": {},
   "outputs": [
    {
     "data": {
      "image/png": "[encoded data removed]",
      "text/plain": [
       "<matplotlib.figure.Figure at 0x7f630a9dc6d8>"
      ]
     },
     "metadata": {},
     "output_type": "display_data"
    },
    {
     "data": {
      "text/plain": [
       "2.663397952914238"
      ]
     },
     "execution_count": 195,
     "metadata": {},
     "output_type": "execute_result"
    }
   ],
   "source": [
    "graph(6)"
   ]
  },
  {
   "cell_type": "code",
   "execution_count": 192,
   "metadata": {},
   "outputs": [
    {
     "data": {
      "image/png": "[encoded data removed]",
      "text/plain": [
       "<matplotlib.figure.Figure at 0x7f630aa571d0>"
      ]
     },
     "metadata": {},
     "output_type": "display_data"
    },
    {
     "data": {
      "text/plain": [
       "2.6212304318323731"
      ]
     },
     "execution_count": 192,
     "metadata": {},
     "output_type": "execute_result"
    }
   ],
   "source": [
    "graph(7)"
   ]
  },
  {
   "cell_type": "markdown",
   "metadata": {},
   "source": [
    "Real average temp is 1.683333, so the closest solution is with deg = 3"
   ]
  },
  {
   "cell_type": "markdown",
   "metadata": {},
   "source": [
    "## EX.5\n",
    "\n",
    "$$A =\n",
    "\\begin{bmatrix}\n",
    "    0_{1,1} & 0_{1,2} & 0_{1,3} & \\dots  & 0_{1,10} \\\\\n",
    "    \\vdots & \\vdots & \\vdots & \\ddots & \\vdots \\\\\n",
    "    0_{6,1} & 1_{6,2} & 0_{6,3} & \\dots  & 0_{6,10} \\\\\n",
    "    \\vdots & \\vdots & \\vdots & \\ddots & \\vdots \\\\\n",
    "    0_{9,1} & 0_{9,2} & 1_{9,3} & \\dots  & 0_{9,10} \\\\\n",
    "    0_{10,1} & 0_{10,2} & 0_{10,3} & \\dots  & 0_{10,10} \\\\\n",
    "\\end{bmatrix} = B \\cdot C = \n",
    "\\begin{bmatrix}\n",
    "    0_{1,1} & 0_{1,2} \\\\\n",
    "    \\vdots & \\vdots \\\\\n",
    "    1_{6,1} & 0_{6,2} \\\\\n",
    "    \\vdots & \\vdots \\\\\n",
    "    0_{9,1} & 1_{9,2} \\\\\n",
    "    0_{10,1} & 0_{10,2} \\\\\n",
    "\\end{bmatrix} \\cdot \n",
    "\\begin{bmatrix}\n",
    "    0_{1,1} & 1_{1,2} & 0_{1,3} & \\dots  & 0_{1,10} \\\\\n",
    "    0_{2,1} & 0_{2,2} & 1_{2,3} & \\dots  & 0_{2,10} \\\\\n",
    "\\end{bmatrix}\n",
    "$$"
   ]
  },
  {
   "cell_type": "code",
   "execution_count": 198,
   "metadata": {},
   "outputs": [
    {
     "name": "stdout",
     "output_type": "stream",
     "text": [
      "[[ 0.  0.  0.  0.  0.  0.  0.  0.  0.  0.]\n",
      " [ 0.  0.  0.  0.  0.  1.  0.  0.  0.  0.]\n",
      " [ 0.  0.  0.  0.  0.  0.  0.  0.  1.  0.]\n",
      " [ 0.  0.  0.  0.  0.  0.  0.  0.  0.  0.]\n",
      " [ 0.  0.  0.  0.  0.  0.  0.  0.  0.  0.]\n",
      " [ 0.  0.  0.  0.  0.  0.  0.  0.  0.  0.]\n",
      " [ 0.  0.  0.  0.  0.  0.  0.  0.  0.  0.]\n",
      " [ 0.  0.  0.  0.  0.  0.  0.  0.  0.  0.]\n",
      " [ 0.  0.  0.  0.  0.  0.  0.  0.  0.  0.]\n",
      " [ 0.  0.  0.  0.  0.  0.  0.  0.  0.  0.]]\n"
     ]
    }
   ],
   "source": [
    "B = np.zeros((10, 2))\n",
    "C = np.zeros((2, 10))\n",
    "B[5, 0] = 1\n",
    "B[8, 1] = 1 \n",
    "C[0, 1] = 1\n",
    "C[1, 2] = 1\n",
    "print(pseudo_inv(B, C))"
   ]
  },
  {
   "cell_type": "markdown",
   "metadata": {},
   "source": [
    "## EX.6\n",
    "\n",
    "$$L(x) = \\sum \\limits_{i = 0}^n y_i \\cdot l_i(x)$$\n",
    "$$l_i(x) = \\frac{x - x_0}{x_i - x_0} \\cdots \\frac{x - x_n}{x_i - x_n}$$\n",
    "We have pairs of $x$ and $y$:\n",
    "(-1, -2), (0, 3), (7, 486), (4, 123)\n",
    "\n",
    "LET'S COUNT!\n",
    "\n",
    "$$l_0(x) = -\\frac{x}{1}\\cdot\\frac{x - 7}{8}\\cdot\\frac{x - 4}{5} = -\\frac{x(x - 7)(x - 4)}{40}$$\n",
    "$$l_1(x) = \\frac{x + 1}{1}\\cdot\\frac{x - 7}{-7}\\cdot\\frac{x - 4}{-4} = \\frac{(x + 1)(x - 7)(x - 4)}{28}$$\n",
    "$$l_2(x) = \\frac{x + 1}{8}\\cdot\\frac{x}{7}\\cdot\\frac{x - 4}{3} = \\frac{x(x + 1)(x - 4)}{168}$$\n",
    "$$l_3(x) = \\frac{x + 1}{5}\\cdot\\frac{x}{4}\\cdot\\frac{x - 7}{-3} = -\\frac{x(x + 1)(x - 7)}{60}$$\n",
    "\n",
    "$\\\\L(x) = -2 \\cdot l_0(x) + 3 \\cdot l_1(x) + 486 \\cdot l_2(x) + 123 \\cdot l_3(x) = \\frac{x(x - 7)(x - 4)}{20} + \\frac{3(x + 1)(x - 7)(x - 4)}{28} + \\frac{28x(x + 1)(x - 4)}{81} - \\frac{123x(x + 1)(x - 7)}{60} = x^3 (\\frac{1}{20} + \\frac{3}{28} + \\frac{81}{28} - \\frac{123}{60}) + x^2 (-\\frac{1}{5} - \\frac{7}{20} + \\frac{3}{28} - \\frac{3}{4} - \\frac{3}{7} + \\frac{81}{21} - \\frac{81}{7} - \\frac{123}{60} + \\frac{123 \\cdot 7}{60}) + x(\\frac{28}{20} - \\frac{21}{28} - \\frac{12}{28} + 3 - \\frac{81}{7} + \\frac{123 \\cdot 7}{60}) + 3 = x^3 + 2x^2 + 6x + 3$\n",
    "\n",
    "And this is true!"
   ]
  },
  {
   "cell_type": "markdown",
   "metadata": {},
   "source": [
    "## EX.7\n",
    "\n",
    "$$B = \\{(x, y) \\mid 36x^2 + 16y^2 \\le 144\\} = \\{(x, y) \\mid \\frac{1}{4}x^2 + \\frac{1}{9}y^2 \\le 1\\}$$\n",
    "\n",
    "Our matrix:\n",
    "\n",
    "$$A =\n",
    "\\begin{pmatrix}\n",
    "    \\frac{1}{4} & 0 \\\\\n",
    "    0 & \\frac{1}{9} \\\\\n",
    "\\end{pmatrix}$$\n",
    "$$ \\Delta_1 = \\frac{1}{4} \\gt 0$$\n",
    "$$ \\Delta_2 = \\frac{1}{36} \\gt 0$$\n",
    "\n",
    "So because of Minkovsky theorem this is шар относительно какой-то нормы, поскольку является просто растяжением обычного шара - эллипсом.\n",
    "\n",
    "Отлично, посчитаем значение для\n",
    "$$v =\n",
    "\\begin{pmatrix}\n",
    "    5\\\\\n",
    "    -3 \\\\\n",
    "\\end{pmatrix}$$\n",
    "\n",
    "Пусть $v_a$ лежит на сфере соответсвующей шару, тогда: $v_a =\n",
    "\\begin{pmatrix}\n",
    "    5a\\\\\n",
    "    -3a \\\\\n",
    "\\end{pmatrix}$, и удовлетворяет $B$:\n",
    "\n",
    "$$\\frac{1}{4}(5a)^2 + \\frac{1}{9}(-3a)^2 = 1 = \\frac{25a^2}{4} + a^2 = \\frac{29a^2}{4}$$\n",
    "$$ a^2 = \\frac{4}{29}$$\n",
    "$$ a = \\frac{2}{\\sqrt{29}} $$\n",
    "\n",
    "Тогда если $n$ - наша норма:\n",
    "$$n(v) = n(\\frac{v_a}{a}) = \\frac{1}{a}n(v_a) = \\frac{1}{a} = \\frac{\\sqrt{29}}{2}$$"
   ]
  }
 ],
 "metadata": {
  "kernelspec": {
   "display_name": "Python 3",
   "language": "python",
   "name": "python3"
  },
  "language_info": {
   "codemirror_mode": {
    "name": "ipython",
    "version": 3
   },
   "file_extension": ".py",
   "mimetype": "text/x-python",
   "name": "python",
   "nbconvert_exporter": "python",
   "pygments_lexer": "ipython3",
   "version": "3.5.2"
  }
 },
 "nbformat": 4,
 "nbformat_minor": 2
}
